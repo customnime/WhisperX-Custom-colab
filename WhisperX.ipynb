{
  "nbformat": 4,
  "nbformat_minor": 0,
  "metadata": {
    "colab": {
      "provenance": [],
      "gpuType": "T4",
      "include_colab_link": true
    },
    "kernelspec": {
      "name": "python3",
      "display_name": "Python 3"
    },
    "language_info": {
      "name": "python"
    },
    "accelerator": "GPU"
  },
  "cells": [
    {
      "cell_type": "markdown",
      "metadata": {
        "id": "view-in-github",
        "colab_type": "text"
      },
      "source": [
        "<a href=\"https://colab.research.google.com/github/customnime/WhisperX_colab/blob/main/WhisperX.ipynb\" target=\"_parent\"><img src=\"https://colab.research.google.com/assets/colab-badge.svg\" alt=\"Open In Colab\"/></a>"
      ]
    },
    {
      "cell_type": "markdown",
      "metadata": {
        "id": "3eb38cc7"
      },
      "source": [
        "# 🗣️ **WhisperX.** *Transcripción de voz con inteligencia artificial!.*\n",
        "\n",
        "*Notebook por Pablo Emmanuel Magallanes Infante.*\n",
        "\n",
        "---"
      ]
    },
    {
      "cell_type": "markdown",
      "metadata": {
        "id": "1bce6f74"
      },
      "source": [
        "Te doy una cordial bienvenida a mi proyecto relacionado con WhisperX. Si cuentas con un archivo de audio y deseas transformarlo en texto, te encuentras en el sitio adecuado. Solo tienes que seguir las indicaciones que te proporcionaré a continuación, y comprobarás lo fácil que es.\n",
        "\n",
        "## ¿Cómo empezar? 🚀\n",
        "\n",
        "1. **Habilita la GPU**: Para obtener una transcripción rápida, asegúrate de habilitar la GPU. Ve a \"Entorno de ejecución\" > \"Cambiar tipo de entorno de ejecución\" > y selecciona \"T4 GPU\" en la opción \"Acelerador de hardware\".\n",
        "2. **Sube tu archivo de audio**: Usa la herramienta de abajo para subir tu archivo de audio.\n",
        "3. **Ejecuta las celdas**: Simplemente ejecuta las celdas en orden, ¡y verás la magia suceder!\n",
        "\n",
        "**Nota**: Si eres nuevo en Google Colab, cada celda con código se ejecuta haciendo clic en el botón de reproducción (▶️) a la izquierda de la celda, o puedes presionar `Shift + Enter`.\n"
      ]
    },
    {
      "cell_type": "code",
      "execution_count": null,
      "metadata": {
        "id": "839c047c",
        "cellView": "form"
      },
      "outputs": [],
      "source": [
        "#@markdown ## 1. Instalación del paquete 📦\n",
        "#@markdown Primero, necesitamos instalar WhisperX ejecutando esta celda.\n",
        "\n",
        "!pip install git+https://github.com/m-bain/whisperx.git@d97cdb7bcf302fb3e1651321a5935f90594e994c"
      ]
    },
    {
      "cell_type": "code",
      "source": [
        "#@markdown ## 2. Sube tu archivo de audio 🎵\n",
        "#@markdown Haz clic en el botón de abajo para subir tu archivo de audio. Asegúrate de que sea un archivo en formato MP3.\n",
        "from google.colab import files\n",
        "\n",
        "uploaded = files.upload()\n",
        "audio_file = list(uploaded.keys())[0]\n",
        "\n",
        "# Renombra el archivo de audio\n",
        "import os\n",
        "os.rename(audio_file, \"audio.mp3\")"
      ],
      "metadata": {
        "cellView": "form",
        "id": "IygHVyguN4JG"
      },
      "execution_count": null,
      "outputs": []
    },
    {
      "cell_type": "code",
      "source": [
        "! pip install yt-dlp\n",
        "import sys\n",
        "import warnings\n",
        "import yt_dlp\n",
        "import subprocess\n",
        "import torch\n",
        "import shutil\n",
        "import numpy as np\n",
        "from IPython.display import display, Markdown, YouTubeVideo\n",
        "\n",
        "device = torch.device('cuda:0')\n",
        "print('Using device:', device, file=sys.stderr)\n",
        "\n",
        "Type = \"Youtube video or playlist\"\n",
        "#@markdown ## Descarga el audio de su video de youtube 📀\n",
        "URL = \"https://www.youtube.com/watch?v=ZruU4Nb2_ds\" #@param {type:\"string\"}\n",
        "#@markdown Tardara unos segundos en cargar, porfavor, sea paciente.\n",
        "\n",
        "video_path_local_list = []\n",
        "\n",
        "if Type == \"Youtube video or playlist\":\n",
        "\n",
        "  ydl_opts = {\n",
        "    'format': 'm4a/bestaudio/best',\n",
        "    'outtmpl': 'audio',  # Rename the extracted MP3 file to \"audio.mp3\"\n",
        "    'postprocessors': [{\n",
        "      'key': 'FFmpegExtractAudio',\n",
        "      'preferredcodec': 'mp3',\n",
        "    }]\n",
        "  }\n",
        "\n",
        "  with yt_dlp.YoutubeDL(ydl_opts) as ydl:\n",
        "    error_code = ydl.download([URL])\n",
        "    list_video_info = [ydl.extract_info(URL, download=False)]"
      ],
      "metadata": {
        "cellView": "form",
        "id": "_s5iwIAToIzn"
      },
      "execution_count": null,
      "outputs": []
    },
    {
      "cell_type": "markdown",
      "source": [
        "## 3. Transcripción de voz ✍️\n",
        "Ahora, vamos a transcribir tu archivo de audio."
      ],
      "metadata": {
        "id": "ivhFPjklIjt1"
      }
    },
    {
      "cell_type": "code",
      "source": [
        "!whisperx audio.mp3 --model large-v2 --output_dir . --align_model WAV2VEC2_ASR_LARGE_LV60K_960H --device cuda"
      ],
      "metadata": {
        "id": "HHiybi78o7D7"
      },
      "execution_count": null,
      "outputs": []
    },
    {
      "cell_type": "code",
      "source": [
        "#@markdown ## Descarga tus resultados! 📂\n",
        "#@markdown Haz click a la celda para descargar los resultados que has creado\n",
        "\n",
        "files.download (\"audio.json\")\n",
        "files.download (\"audio.srt\")\n",
        "files.download (\"audio.tsv\")\n",
        "files.download (\"audio.txt\")\n",
        "files.download (\"audio.vtt\")"
      ],
      "metadata": {
        "cellView": "form",
        "id": "DxuTBxaHqQFC"
      },
      "execution_count": null,
      "outputs": []
    },
    {
      "cell_type": "markdown",
      "source": [
        "## 4. Transcripcion en otro idioma. 🌍\n",
        "Puedes hacer una transcripcion de tu audio y transformarlo en otro idioma. Tienes mas de 20 idiomas para traducir."
      ],
      "metadata": {
        "id": "L-AjWJMcIon8"
      }
    },
    {
      "cell_type": "code",
      "source": [
        "!whisperx audio.mp3 --model large-v2 --task transcribe --language en --output_dir . --align_model WAV2VEC2_ASR_LARGE_LV60K_960H --device cuda"
      ],
      "metadata": {
        "id": "5P7gggR8JLQV"
      },
      "execution_count": null,
      "outputs": []
    },
    {
      "cell_type": "code",
      "source": [
        "#@markdown ## Descarga tus resultados! 📂\n",
        "#@markdown Haz click a la celda para descargar los resultados que has creado\n",
        "\n",
        "files.download (\"audio.json\")\n",
        "files.download (\"audio.srt\")\n",
        "files.download (\"audio.tsv\")\n",
        "files.download (\"audio.txt\")\n",
        "files.download (\"audio.vtt\")"
      ],
      "metadata": {
        "cellView": "form",
        "id": "5WxBzocMq40t"
      },
      "execution_count": null,
      "outputs": []
    },
    {
      "cell_type": "markdown",
      "source": [
        "## **Lenguajes disponibles para traducir.** 🗨️\n",
        "Puedes modificar el codigo y traducir al idioma que mas te guste. Para hacerlo, modifica las dos letras que estan justo a lado de \"language\" y coloque algunos de estos idiomas, (recuerda, coloca solamente las dos letras):\n",
        "\n"
      ],
      "metadata": {
        "id": "IIILsnqTUn6H"
      }
    },
    {
      "cell_type": "markdown",
      "source": [
        "```\n",
        "af - Afrikaans\n",
        "am - Amharic\n",
        "ar - Arabic\n",
        "as - Assamese\n",
        "az - Azerbaijani\n",
        "ba - Bashkir\n",
        "be - Belarusian\n",
        "bg - Bulgarian\n",
        "bn - Bengali\n",
        "bo - Tibetan\n",
        "br - Breton\n",
        "bs - Bosnian\n",
        "ca - Catalan\n",
        "cs - Czech\n",
        "cy - Welsh\n",
        "da - Danish\n",
        "de - German\n",
        "el - Greek\n",
        "en - English\n",
        "es - Spanish\n",
        "et - Estonian\n",
        "eu - Basque\n",
        "fa - Persian\n",
        "fi - Finnish\n",
        "fo - Faroese\n",
        "fr - French\n",
        "gl - Galician\n",
        "gu - Gujarati\n",
        "ha - Hausa\n",
        "haw - Hawaiian\n",
        "he - Hebrew\n",
        "hi - Hindi\n",
        "hr - Croatian\n",
        "ht - Haitian Creole\n",
        "hu - Hungarian\n",
        "hy - Armenian\n",
        "id - Indonesian\n",
        "is - Icelandic\n",
        "it - Italian\n",
        "ja - Japanese\n",
        "jw - Javanese\n",
        "ka - Georgian\n",
        "kk - Kazakh\n",
        "km - Khmer\n",
        "kn - Kannada\n",
        "ko - Korean\n",
        "la - Latin\n",
        "lb - Letzeburgesch\n",
        "ln - Lingala\n",
        "lo - Lao\n",
        "lt - Lithuanian\n",
        "lv - Latvian\n",
        "mg - Malagasy\n",
        "mi - Maori\n",
        "mk - Macedonian\n",
        "ml - Malayalam\n",
        "mn - Mongolian\n",
        "mr - Marathi\n",
        "ms - Malay\n",
        "mt - Maltese\n",
        "my - Burmese\n",
        "ne - Nepali\n",
        "nl - Dutch\n",
        "nn - Norwegian Nynorsk\n",
        "no - Norwegian\n",
        "oc - Occitan\n",
        "pa - Panjabi\n",
        "pl - Polish\n",
        "ps - Pashto\n",
        "pt - Portuguese\n",
        "ro - Romanian\n",
        "ru - Russian\n",
        "sa - Sanskrit\n",
        "sd - Sindhi\n",
        "si - Sinhala\n",
        "sk - Slovak\n",
        "sl - Slovenian\n",
        "sn - Shona\n",
        "so - Somali\n",
        "sq - Albanian\n",
        "sr - Serbian\n",
        "su - Sundanese\n",
        "sv - Swedish\n",
        "sw - Swahili\n",
        "ta - Tamil\n",
        "te - Telugu\n",
        "tg - Tajik\n",
        "th - Thai\n",
        "tk - Turkmen\n",
        "tl - Tagalog\n",
        "tr - Turkish\n",
        "tt - Tatar\n",
        "uk - Ukrainian\n",
        "ur - Urdu\n",
        "uz - Uzbek\n",
        "vi - Vietnamese\n",
        "yi - Yiddish\n",
        "yo - Yoruba\n",
        "zh - Chinese\n",
        "```\n",
        "\n"
      ],
      "metadata": {
        "id": "3rojJwrFWu2a"
      }
    },
    {
      "cell_type": "markdown",
      "source": [
        "## **Créditos y Agradecimientos** 🎉\n",
        "\n",
        "Este notebook utiliza **WhisperX**, una increíble herramienta de transcripción de voz. ¡Muchas gracias al equipo detrás de WhisperX por hacer posible esta tecnología! **¡No dudes en explorar el [repositorio de WhisperX](https://github.com/m-bain/whisperX) para aprender más sobre este emocionante proyecto!**\n",
        "\n",
        "...\n",
        "\n",
        "🎉 Y eso es todo... ¡Feliz transcripción!"
      ],
      "metadata": {
        "id": "TwtSHHeDRbb3"
      }
    }
  ]
}